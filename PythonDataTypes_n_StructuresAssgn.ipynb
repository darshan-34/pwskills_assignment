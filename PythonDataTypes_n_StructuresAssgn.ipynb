{
 "cells": [
  {
   "cell_type": "code",
   "execution_count": null,
   "id": "d50b8dff-3b3e-489d-b50f-a7f95df1a08a",
   "metadata": {},
   "outputs": [],
   "source": []
  },
  {
   "cell_type": "markdown",
   "id": "f1ef000d-6faa-46ea-92d0-cde0af1995d8",
   "metadata": {},
   "source": [
    "    PYTHON DATA TYPES AND STRUCTURES ASSIGNMENT"
   ]
  },
  {
   "cell_type": "code",
   "execution_count": null,
   "id": "e5d97ade-cdcd-4d44-802a-b3679dc5e9ac",
   "metadata": {},
   "outputs": [],
   "source": []
  },
  {
   "cell_type": "markdown",
   "id": "e433169c-50a8-4cb2-89fe-a9ced842a5ed",
   "metadata": {},
   "source": [
    "    THEORETICAL QUESTIONS AND ANSWERS"
   ]
  },
  {
   "cell_type": "code",
   "execution_count": null,
   "id": "ce680b8f-02d8-469e-a7e7-aabe4b0c42d8",
   "metadata": {},
   "outputs": [],
   "source": []
  },
  {
   "cell_type": "markdown",
   "id": "06440feb-7a2c-4152-8dd1-426570ac157f",
   "metadata": {},
   "source": [
    "    1. WHAT ARE DATA STRUCTURES, AND WHY ARE THEY IMPORTANT?\n",
    "\n",
    "       Data structures are ways to organize, manage, and store data efficiently \n",
    "       in a computer so that it can be accessed and modified effectively. \n",
    "       They are essential because they determine how data is stored, \n",
    "       accessed, and manipulated, impacting the performance of algorithms. \n",
    "       e.g., lists, tuples, sets, and dictionaries.\n",
    "\n",
    "       Importance:\n",
    "   \n",
    "        - Improve data organization and access.\n",
    "        - Enhance the performance of programs.\n",
    "        - Make complex tasks simpler, like searching, sorting, and managing large data sets.\n"
   ]
  },
  {
   "cell_type": "markdown",
   "id": "6cec7968-db56-4e60-a4a8-7fdc1224b536",
   "metadata": {},
   "source": [
    "    2. EXPLAIN THE DIFFERENCE BETWEEN MUTABLE AND IMMUTABLE DATA TYPES WITH EXAMPLES.\n",
    "   \n",
    "        Mutable data types can be changed after creation (e.g., lists, dictionaries, sets).\n",
    "        \n",
    "        e.g.,\n",
    "        my_list = [1, 2, 3]\n",
    "        my_list[0] = 10  # Allowed\n",
    "        Immutable data types cannot be changed once created (e.g., strings, tuples, integers).\n",
    "        \n",
    "        e.g.,\n",
    "        my_tuple = (1, 2, 3)\n",
    "        my_tuple[0] = 10  # Error: Tuples are immutable\n",
    "    "
   ]
  },
  {
   "cell_type": "markdown",
   "id": "11eff4ba-41d1-43f2-8e49-aefe2e278828",
   "metadata": {},
   "source": [
    "    3. WHAT ARE THE MAIN DIFFERENCES BETWEEN LISTS AND TUPLES IN PYTHON?\n",
    "    \n",
    "        - Lists are mutable, whereas Tuples are immutable.\n",
    "        - Lists are initialised with square brackets,  whereas Tuples are initialised with round brackets.\n",
    "        - Lists are used for dynamic data, whereas Tuples are used for static data."
   ]
  },
  {
   "cell_type": "markdown",
   "id": "00b20d4f-8376-4f9f-aafe-901a2a5d3b3c",
   "metadata": {},
   "source": [
    "    4. DESCRIBE HOW DICTIONARIES STORE DATA.\n",
    "       \n",
    "       Dictionaries store data in key-value pairs using a hash table internally.\n",
    "        - Keys are unique and immutable.\n",
    "        - Values can be mutable or immutable.\n",
    "        - Data is stored at unique hashed locations based on the key."
   ]
  },
  {
   "cell_type": "markdown",
   "id": "94ce12f4-f0a7-484a-a55a-85fd6be3354e",
   "metadata": {},
   "source": [
    "    5. WHY MIGHT YOU USE A SET INSTEAD OF A LIST IN PYTHON?\n",
    "       \n",
    "       A set is preferred when:\n",
    "    \n",
    "        - You need to remove duplicates.\n",
    "        - You need fast membership testing (in operator).\n",
    "        - Order is not important.\n",
    "       \n",
    "       e.g.,\n",
    "       my_set = {1, 2, 3, 1}  # {1, 2, 3} - Duplicates are automatically removed\n"
   ]
  },
  {
   "cell_type": "markdown",
   "id": "d1b838d2-61fc-41fb-b25d-c94a28835c5d",
   "metadata": {},
   "source": [
    "    6. WHAT IS A STRING IN PYTHON, AND HOW IS IT DIFFERENT FROM A LIST?\n",
    "       \n",
    "       A string is an immutable sequence of characters. A list is a mutable sequence of elements.\n",
    "    \n",
    "        Difference:\n",
    "       \n",
    "        - Strings cannot be changed after creation.\n",
    "        - Lists can be modified by adding, removing, or changing elements.\n"
   ]
  },
  {
   "cell_type": "markdown",
   "id": "c74d9eed-97d1-4883-a5f5-2b4db56804bc",
   "metadata": {},
   "source": [
    "    7. HOW DO TUPLES ENSURE DATA INTEGRITY IN PYTHON?\n",
    "       \n",
    "        Since tuples are immutable, they ensure that data remains constant and cannot be modified accidentally, which is useful \n",
    "        when storing sensitive or critical information.\n"
   ]
  },
  {
   "cell_type": "markdown",
   "id": "044eeea0-793c-4a5c-9112-5bd26410687b",
   "metadata": {},
   "source": [
    "    8. WHAT IS A HASH TABLE, AND HOW DOES IT RELATE TO DICTIONARIES IN PYTHON?\n",
    "       \n",
    "       A hash table is a data structure that maps keys to values using a hash function to determine the \n",
    "       index for each key-value pair.\n",
    "       In Python, dictionaries use hash tables internally for fast data retrieval.\n"
   ]
  },
  {
   "cell_type": "markdown",
   "id": "c723d07c-95bc-4900-829e-d72cb878056a",
   "metadata": {},
   "source": [
    "    9. CAN LISTS CONTAIN DIFFERENT DATA TYPES IN PYTHON?\n",
    "        \n",
    "       Yes, lists can contain elements of different data types, including numbers, strings, other lists, and even custom objects.\n",
    "        \n",
    "       e.g.,\n",
    "       my_list = [42, \"hello\", [1, 2, 3], {\"key\": \"value\"}]\n"
   ]
  },
  {
   "cell_type": "markdown",
   "id": "7b4a2c2c-8c5f-44b8-9fd8-b2d1c013cfb3",
   "metadata": {},
   "source": [
    "    10. EXPLAIN WHY STRINGS ARE IMMUTABLE IN PYTHON.\n",
    "        \n",
    "        Strings are immutable to ensure security, performance, and data integrity.\n",
    "        If strings were mutable, they could lead to unexpected behavior when used as keys in dictionaries or in shared memory.\n"
   ]
  },
  {
   "cell_type": "markdown",
   "id": "62719d64-f2f0-48a3-8f96-dc93171df233",
   "metadata": {},
   "source": [
    "    11. WHAT ADVANTAGES DO DICTIONARIES OFFER OVER LISTS FOR CERTAIN TASKS?\n",
    "        \n",
    "        - Fast lookups due to hashing (O(1) time complexity).\n",
    "        - Association of keys with values, making data retrieval more intuitive.\n",
    "        - Dynamic and flexible structure for storing complex data.\n"
   ]
  },
  {
   "cell_type": "markdown",
   "id": "f6992884-6176-4ba8-bc27-14e08af897a6",
   "metadata": {},
   "source": [
    "    12. HOW DO SETS HANDLE DUPLICATE VALUES IN PYTHON?\n",
    "        \n",
    "        Sets automatically remove duplicate values when they are added.\n",
    "        e.g.,\n",
    "        my_set = {1, 2, 2, 3}\n",
    "        print(my_set)  # Output: {1, 2, 3}\n"
   ]
  },
  {
   "cell_type": "markdown",
   "id": "fd7fa3b8-821e-44f7-8789-9a8d40d160b5",
   "metadata": {},
   "source": [
    "    13. DESCRIBE A SCENARIO WHERE USING A TUPLE WOULD BE PREFERABLE OVER A LIST.\n",
    "    \n",
    "        Use a tuple when:\n",
    "        - You need to ensure the data remains unchanged (e.g., coordinates, configuration settings).\n",
    "        - The data is used as a dictionary key (tuples can be hashed, lists cannot).\n"
   ]
  },
  {
   "cell_type": "markdown",
   "id": "79960a37-1d8a-4f6b-abf3-95e1c8d388c8",
   "metadata": {},
   "source": [
    "    14. HOW DOES THE IN KEYWORD WORK DIFFERENTLY FOR LISTS AND DICTIONARIES?\n",
    "    \n",
    "        - For lists, in checks for the presence of a value.\n",
    "        e.g.,\n",
    "        my_list = [1, 2, 3]\n",
    "        print(2 in my_list)  # True\n",
    "        \n",
    "        - For dictionaries, in checks for the presence of a key.\n",
    "        e.g.,       \n",
    "        my_dict = {\"a\": 1, \"b\": 2}\n",
    "        print(\"a\" in my_dict)  # True\n",
    "        print(1 in my_dict)  # False\n"
   ]
  },
  {
   "cell_type": "markdown",
   "id": "b9f079e5-c56f-44d2-884a-6a888560fb05",
   "metadata": {},
   "source": [
    "    15. CAN YOU MODIFY THE ELEMENTS OF A TUPLE? EXPLAIN WHY OR WHY NOT.\n",
    "    \n",
    "        No, tuples are immutable, so their elements cannot be changed after creation. This immutability ensures data integrity.\n"
   ]
  },
  {
   "cell_type": "markdown",
   "id": "34154543-3822-4fdb-a8d0-09f9ba3244a4",
   "metadata": {},
   "source": [
    "    16. WHAT IS A NESTED DICTIONARY, AND GIVE AN EXAMPLE OF ITS USE CASE.\n",
    "    \n",
    "        A nested dictionary is a dictionary within another dictionary.\n",
    "        Use Case: Storing hierarchical or structured data like student records.\n",
    "        e.g.,\n",
    "        students = {\n",
    "            \"John\": {\"age\": 20, \"grades\": [90, 85, 88]},\n",
    "            \"Doe\": {\"age\": 22, \"grades\": [78, 81, 89]},\n",
    "        }\n"
   ]
  },
  {
   "cell_type": "markdown",
   "id": "e2e2fbd2-9e0e-42db-9956-4db910ead894",
   "metadata": {},
   "source": [
    "    17. DESCRIBE THE TIME COMPLEXITY OF ACCESSING ELEMENTS IN A DICTIONARY.\n",
    "    \n",
    "        The time complexity of accessing elements in a dictionary is O(1) (constant time) due to the use of hash tables.\n"
   ]
  },
  {
   "cell_type": "markdown",
   "id": "dc8b4e70-3a0f-48ec-92ba-ace4d2bedc76",
   "metadata": {},
   "source": [
    "    18. IN WHAT SITUATIONS ARE LISTS PREFERRED OVER DICTIONARIES?\n",
    "    \n",
    "        - When you need to maintain the order of elements.\n",
    "        - When you don’t need key-value pairs.\n",
    "        - For tasks like simple iteration and sorting.\n"
   ]
  },
  {
   "cell_type": "markdown",
   "id": "d61bf258-aa79-496a-ad42-28e80143a89d",
   "metadata": {},
   "source": [
    "    19. WHY ARE DICTIONARIES CONSIDERED UNORDERED, AND HOW DOES THAT AFFECT DATA RETRIEVAL?\n",
    "    \n",
    "        Dictionaries are unordered because they rely on hash functions to store data in memory, \n",
    "        which does not guarantee any specific order.\n",
    "        This means you cannot retrieve items based on their position like you can with lists.\n"
   ]
  },
  {
   "cell_type": "markdown",
   "id": "108b017c-6110-42fb-ac7f-61111c5e411e",
   "metadata": {},
   "source": [
    "    20. EXPLAIN THE DIFFERENCE BETWEEN A LIST AND A DICTIONARY IN TERMS OF DATA RETRIEVAL.\n",
    "\n",
    "        List is based on index, whereas dictionary is based on key.\n",
    "        Time complexity of list is O(n)(which denotes to linear search), \n",
    "        whereas for dictionary it's O(n)(which denotes constant time)"
   ]
  },
  {
   "cell_type": "code",
   "execution_count": null,
   "id": "cf51cd84-c427-466e-829b-30c338a66712",
   "metadata": {},
   "outputs": [],
   "source": []
  },
  {
   "cell_type": "markdown",
   "id": "8c1f4d0a-b6bc-4b6e-8d60-a0ed3611672a",
   "metadata": {},
   "source": [
    "    PRACTICAL QUESTIONS AND ANSWERS"
   ]
  },
  {
   "cell_type": "code",
   "execution_count": null,
   "id": "6f3b6998-64e9-4bd5-b3ac-0e5443147baa",
   "metadata": {},
   "outputs": [],
   "source": []
  },
  {
   "cell_type": "code",
   "execution_count": 148,
   "id": "bcd53ff1-05cd-44ea-b986-70eb875a7618",
   "metadata": {},
   "outputs": [
    {
     "name": "stdout",
     "output_type": "stream",
     "text": [
      "Darshan.D\n"
     ]
    }
   ],
   "source": [
    "# 1. Write a code to create a string with your name and print it\n",
    "name = \"Darshan.D\"\n",
    "print(name)"
   ]
  },
  {
   "cell_type": "code",
   "execution_count": 149,
   "id": "c55e0814-c230-4765-94e7-a6f0deee7e8b",
   "metadata": {},
   "outputs": [
    {
     "name": "stdout",
     "output_type": "stream",
     "text": [
      "11\n"
     ]
    }
   ],
   "source": [
    "# 2. Write a code to find the length of the string \"Hello World\"\n",
    "str_len = len(\"Hello World\")\n",
    "print(str_len)"
   ]
  },
  {
   "cell_type": "code",
   "execution_count": 150,
   "id": "cdbccae5-1512-44e1-96a0-3df969f82243",
   "metadata": {},
   "outputs": [
    {
     "name": "stdout",
     "output_type": "stream",
     "text": [
      "Pyt\n"
     ]
    }
   ],
   "source": [
    "# 3. Write a code to slice the first 3 characters from the string \"Python Programming\"\n",
    "sliced_string = \"Python Programming\"[:3]\n",
    "print(sliced_string)"
   ]
  },
  {
   "cell_type": "code",
   "execution_count": 151,
   "id": "451a4189-c68c-423c-b943-7dfefd972556",
   "metadata": {},
   "outputs": [
    {
     "name": "stdout",
     "output_type": "stream",
     "text": [
      "HELLO\n"
     ]
    }
   ],
   "source": [
    "# 4. Write a code to convert the string \"hello\" to uppercase\n",
    "uppercase_string = \"hello\".upper()\n",
    "print(uppercase_string)"
   ]
  },
  {
   "cell_type": "code",
   "execution_count": 152,
   "id": "7c3febb3-b6b3-4fb0-b397-d75576a00e28",
   "metadata": {},
   "outputs": [
    {
     "name": "stdout",
     "output_type": "stream",
     "text": [
      "I like orange\n"
     ]
    }
   ],
   "source": [
    "# 5. Write a code to replace the word \"apple\" with \"orange\" in the string \"I like apple\n",
    "replaced_string = \"I like apple\".replace(\"apple\", \"orange\")\n",
    "print(replaced_string)"
   ]
  },
  {
   "cell_type": "code",
   "execution_count": 153,
   "id": "24565133-7ef2-402a-a773-56cb4459597d",
   "metadata": {},
   "outputs": [
    {
     "name": "stdout",
     "output_type": "stream",
     "text": [
      "[1, 2, 3, 4, 5]\n"
     ]
    }
   ],
   "source": [
    "# 6. Write a code to create a list with numbers 1 to 5 and print it\n",
    "numbers_list = [1, 2, 3, 4, 5]\n",
    "print(numbers_list)"
   ]
  },
  {
   "cell_type": "code",
   "execution_count": 154,
   "id": "03312fc9-9d9b-4097-b7b7-af61b7fa3dc8",
   "metadata": {},
   "outputs": [
    {
     "name": "stdout",
     "output_type": "stream",
     "text": [
      "[1, 2, 3, 4, 10]\n"
     ]
    }
   ],
   "source": [
    "# 7. Write a code to append the number 10 to the list [1, 2, 3, 4]\n",
    "list_append = [1, 2, 3, 4]\n",
    "list_append.append(10)\n",
    "print(list_append)"
   ]
  },
  {
   "cell_type": "code",
   "execution_count": 155,
   "id": "43e1961d-1793-485a-8f00-86c4cfaa1a50",
   "metadata": {},
   "outputs": [
    {
     "name": "stdout",
     "output_type": "stream",
     "text": [
      "[1, 2, 4, 5]\n"
     ]
    }
   ],
   "source": [
    "# 8.  Write a code to remove the number 3 from the list [1, 2, 3, 4, 5]\n",
    "list_remove = [1, 2, 3, 4, 5]\n",
    "list_remove.remove(3)\n",
    "print(list_remove)"
   ]
  },
  {
   "cell_type": "code",
   "execution_count": 156,
   "id": "5ec0c92b-c9c3-4128-beca-17be285e41a1",
   "metadata": {},
   "outputs": [
    {
     "name": "stdout",
     "output_type": "stream",
     "text": [
      "b\n"
     ]
    }
   ],
   "source": [
    "# 9. Write a code to access the second element in the list ['a', 'b', 'c', 'd']\n",
    "second_element = ['a', 'b', 'c', 'd'][1]\n",
    "print(second_element)"
   ]
  },
  {
   "cell_type": "code",
   "execution_count": 157,
   "id": "16a32220-b5ce-4e84-9838-a0727df13497",
   "metadata": {},
   "outputs": [
    {
     "name": "stdout",
     "output_type": "stream",
     "text": [
      "[50, 40, 30, 20, 10]\n"
     ]
    }
   ],
   "source": [
    "# 10. Write a code to reverse the list [10, 20, 30, 40, 50]\n",
    "reversed_list = [10, 20, 30, 40, 50][::-1]\n",
    "print(reversed_list)\n"
   ]
  },
  {
   "cell_type": "code",
   "execution_count": 158,
   "id": "395eaaa1-94b1-4a02-9dfc-8358adb922fa",
   "metadata": {},
   "outputs": [
    {
     "name": "stdout",
     "output_type": "stream",
     "text": [
      "(10, 20, 30)\n"
     ]
    }
   ],
   "source": [
    "# 11. Write a code to create a tuple with the elements 10, 20, 30 and print it\n",
    "tuple_example = (10, 20, 30)\n",
    "print(tuple_example)"
   ]
  },
  {
   "cell_type": "code",
   "execution_count": 159,
   "id": "5cc09c73-9b38-443c-a843-63014278779b",
   "metadata": {},
   "outputs": [
    {
     "name": "stdout",
     "output_type": "stream",
     "text": [
      "apple\n"
     ]
    }
   ],
   "source": [
    "# 12. Write a code to access the first element of the tuple ('apple', 'banana', 'cherry')\n",
    "first_element = ('apple', 'banana', 'cherry')[0]\n",
    "print(first_element)"
   ]
  },
  {
   "cell_type": "code",
   "execution_count": 160,
   "id": "fbece01b-18ce-481e-8f70-e305d81139e1",
   "metadata": {},
   "outputs": [
    {
     "name": "stdout",
     "output_type": "stream",
     "text": [
      "3\n"
     ]
    }
   ],
   "source": [
    "# 13. Write a code to count how many times the number 2 appears in the tuple (1, 2, 3, 2, 4, 2)\n",
    "count_twos = (1, 2, 3, 2, 4, 2).count(2)\n",
    "print(count_twos)"
   ]
  },
  {
   "cell_type": "code",
   "execution_count": 161,
   "id": "c9e0bf64-9efe-485f-81bd-c180acffd701",
   "metadata": {},
   "outputs": [
    {
     "name": "stdout",
     "output_type": "stream",
     "text": [
      "1\n"
     ]
    }
   ],
   "source": [
    "# 14. Write a code to find the index of the element \"cat\" in the tuple ('dog', 'cat', 'rabbit')\n",
    "index_cat = ('dog', 'cat', 'rabbit').index('cat')\n",
    "print(index_cat)"
   ]
  },
  {
   "cell_type": "code",
   "execution_count": 162,
   "id": "1eac73b0-731e-43cb-b6b7-de0c62eff5df",
   "metadata": {},
   "outputs": [
    {
     "name": "stdout",
     "output_type": "stream",
     "text": [
      "True\n"
     ]
    }
   ],
   "source": [
    "# 15. Write a code to check if the element \"banana\" is in the tuple ('apple', 'orange', 'banana')\n",
    "contains_banana = 'banana' in ('apple', 'orange', 'banana')\n",
    "print(contains_banana)"
   ]
  },
  {
   "cell_type": "code",
   "execution_count": 163,
   "id": "3e5cd3b3-2a8f-4bb9-999a-cb130c19b0a5",
   "metadata": {},
   "outputs": [
    {
     "name": "stdout",
     "output_type": "stream",
     "text": [
      "{1, 2, 3, 4, 5}\n"
     ]
    }
   ],
   "source": [
    "# 16. Write a code to create a set with the elements 1, 2, 3, 4, 5 and print it\n",
    "set_example = {1, 2, 3, 4, 5}\n",
    "print(set_example)"
   ]
  },
  {
   "cell_type": "code",
   "execution_count": 164,
   "id": "7c897378-6a18-46f2-923b-0dffd88cad43",
   "metadata": {},
   "outputs": [
    {
     "name": "stdout",
     "output_type": "stream",
     "text": [
      "{1, 2, 3, 4, 6}\n"
     ]
    }
   ],
   "source": [
    "# 17. Write a code to add the element 6 to the set {1, 2, 3, 4}\n",
    "set_add = {1, 2, 3, 4}\n",
    "set_add.add(6)\n",
    "print(set_add)"
   ]
  },
  {
   "cell_type": "code",
   "execution_count": 165,
   "id": "479dab99-5fd2-4362-9d87-4cfa7a1db19c",
   "metadata": {},
   "outputs": [
    {
     "name": "stdout",
     "output_type": "stream",
     "text": [
      "(10, 20, 30)\n"
     ]
    }
   ],
   "source": [
    "# 18. Write a code to create a tuple with the elements 10, 20, 30 and print it\n",
    "tuple_example_2 = (10, 20, 30)\n",
    "print(tuple_example_2)"
   ]
  },
  {
   "cell_type": "code",
   "execution_count": 166,
   "id": "e1da08d1-3908-465e-84ee-d36058d2d4ac",
   "metadata": {},
   "outputs": [
    {
     "name": "stdout",
     "output_type": "stream",
     "text": [
      "apple\n"
     ]
    }
   ],
   "source": [
    "# 19. Write a code to access the first element of the tuple ('apple', 'banana', 'cherry')\n",
    "first_element_2 = ('apple', 'banana', 'cherry')[0]\n",
    "print(first_element_2)"
   ]
  },
  {
   "cell_type": "code",
   "execution_count": 167,
   "id": "930e05c0-0eea-4cc6-a6b0-b1e6a022a7eb",
   "metadata": {},
   "outputs": [
    {
     "name": "stdout",
     "output_type": "stream",
     "text": [
      "3\n"
     ]
    }
   ],
   "source": [
    "# 20. Write a code to count how many times the number 2 appears in the tuple (1, 2, 3, 2, 4, 2)\n",
    "count_twos_2 = (1, 2, 3, 2, 4, 2).count(2)\n",
    "print(count_twos_2)"
   ]
  },
  {
   "cell_type": "code",
   "execution_count": 168,
   "id": "655279a7-866c-4894-90fd-9fffd14e24fc",
   "metadata": {},
   "outputs": [
    {
     "name": "stdout",
     "output_type": "stream",
     "text": [
      "1\n"
     ]
    }
   ],
   "source": [
    "# 21. Write a code to find the index of the element \"cat\" in the tuple ('dog', 'cat', 'rabbit')\n",
    "index_cat_2 = ('dog', 'cat', 'rabbit').index('cat')\n",
    "print(index_cat_2)"
   ]
  },
  {
   "cell_type": "code",
   "execution_count": 169,
   "id": "48efdd1b-18d4-4ead-b86c-4b044304af1d",
   "metadata": {},
   "outputs": [
    {
     "name": "stdout",
     "output_type": "stream",
     "text": [
      "True\n"
     ]
    }
   ],
   "source": [
    "# 22. Write a code to check if the element \"banana\" is in the tuple ('apple', 'orange', 'banana')\n",
    "contains_banana_2 = 'banana' in ('apple', 'orange', 'banana')\n",
    "print(contains_banana_2)"
   ]
  },
  {
   "cell_type": "code",
   "execution_count": 170,
   "id": "2b0da75b-244d-4acd-a65f-97da962ae78f",
   "metadata": {},
   "outputs": [
    {
     "name": "stdout",
     "output_type": "stream",
     "text": [
      "{1, 2, 3, 4, 5}\n"
     ]
    }
   ],
   "source": [
    "# 23. Write a code to create a set with the elements 1, 2, 3, 4, 5 and print it\n",
    "set_example_2 = {1, 2, 3, 4, 5}\n",
    "print(set_example_2)"
   ]
  },
  {
   "cell_type": "code",
   "execution_count": 171,
   "id": "5efc93ab-5c37-4bdf-9638-4775d8a34c65",
   "metadata": {},
   "outputs": [
    {
     "name": "stdout",
     "output_type": "stream",
     "text": [
      "{1, 2, 3, 4, 6}\n"
     ]
    }
   ],
   "source": [
    "# 24. Write a code to add the element 6 to the set {1, 2, 3, 4}\n",
    "set_add_2 = {1, 2, 3, 4}\n",
    "set_add_2.add(6)\n",
    "print(set_add_2)"
   ]
  },
  {
   "cell_type": "code",
   "execution_count": null,
   "id": "e4f2e0a4-61be-4f0c-a3a4-b44602d4f8d5",
   "metadata": {},
   "outputs": [],
   "source": []
  }
 ],
 "metadata": {
  "kernelspec": {
   "display_name": "Python 3 (ipykernel)",
   "language": "python",
   "name": "python3"
  },
  "language_info": {
   "codemirror_mode": {
    "name": "ipython",
    "version": 3
   },
   "file_extension": ".py",
   "mimetype": "text/x-python",
   "name": "python",
   "nbconvert_exporter": "python",
   "pygments_lexer": "ipython3",
   "version": "3.13.1"
  }
 },
 "nbformat": 4,
 "nbformat_minor": 5
}
