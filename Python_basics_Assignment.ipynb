{
 "cells": [
  {
   "cell_type": "markdown",
   "id": "a5e891f9-bb3a-4e71-a80a-f006d3432fc5",
   "metadata": {
    "editable": true,
    "slideshow": {
     "slide_type": ""
    },
    "tags": []
   },
   "source": [
    "PYTHON BASICS QUESTIONS (THEORY)"
   ]
  },
  {
   "cell_type": "markdown",
   "id": "341b92b7-73a2-4d51-a8dc-91617cdee97c",
   "metadata": {},
   "source": [
    "1. What is Python, and why is it popular?\n",
    "   \n",
    "   Python is a general purpose programming language and it can be used in various applications such as web design,\n",
    "   app development, machine learning, data analysis, etc.\n",
    "   Python is popular as it is highly readable and easy to learn and understand which makes it easy for new\n",
    "   learners to easily adopt the syntax and semantics of python and move to practical use cases quicker and sooner."
   ]
  },
  {
   "cell_type": "markdown",
   "id": "6d8fd3d9-b40c-4b9d-9e4e-091e7c31d324",
   "metadata": {},
   "source": [
    "2. What is an interpreter in python?\n",
    "\n",
    "   An interpreter in python is used to traverse the code written by the programmer and provide the output of the\n",
    "   traversed code. The interpreter runs the code line-by-line instead of running the entire program at once. By\n",
    "   doing this, the program will stop executing if the interpreter finds an error at any point before the end of\n",
    "   the program and the further lines of code will not be executed."
   ]
  },
  {
   "cell_type": "markdown",
   "id": "103ef2ad-cd62-4aea-bde2-80bad0565f4d",
   "metadata": {},
   "source": [
    "3. What are pre-defined keywords in Python?\n",
    "\n",
    "   Pre-defined keywords are built-in functions that are used to perform various actions if they are called by the programmer at any point in the program. There are 35 keywords in python where each one performs a specific task upon calling and executing."
   ]
  },
  {
   "cell_type": "markdown",
   "id": "7ba9db5f",
   "metadata": {},
   "source": [
    "4. Can Keywords be used as variable names?\n",
    "\n",
    "    Keywords cannot be used as variable names. Naming variables with the name of keywords clashes with the python interpreter misinterpreting with the variable name and actual keyword. This throws an error. So, we should avoid the usage of keywords while naming variables to ensure proper and complete execution of the program."
   ]
  },
  {
   "cell_type": "markdown",
   "id": "536a2176",
   "metadata": {},
   "source": [
    "5. What is mutability in Python?\n",
    "\n",
    "    Mutability in Python refers to the ability to change the elements given in a data structure such as adding new elements, deleting existing elements, replacing the values of existing elements with new values, or a combination of the three tasks mentioned here."
   ]
  },
  {
   "cell_type": "markdown",
   "id": "5fb30d7c",
   "metadata": {},
   "source": [
    "6. Why are lists mutable, but tuples are immutable?\n",
    "\n",
    "    Lists are mutable to give the flexibility of editing the elements however the programmer pleases to do. This improves the modularity of maintaing data.\n",
    "    \n",
    "    Tuples are immutable(no change allowed) to provide security so that data cannot be edited very often. This improved the data integrity and reliability."
   ]
  },
  {
   "cell_type": "markdown",
   "id": "8e6a7b44",
   "metadata": {},
   "source": [
    "7. What is the difference between \"==\" and \"is\" operators in python?\n",
    "\n",
    "    \"==\" operator is used to find whether a particular variable is equal to a mentioned value or not. It can also used to find whether two types of data structure hold the same values or not.\n",
    "\n",
    "    \"is\" operator is used to find whether the mentioned element is present in a particular data structure that exists within the program or not.\n"
   ]
  },
  {
   "cell_type": "markdown",
   "id": "8169d6e8",
   "metadata": {},
   "source": [
    "8. What are logical operators in Python?\n",
    "\n",
    "    Logical operators are used to provide a boolean output based on the comparison of two or more expressions. There are 3 types of logical operators. \n",
    "\n",
    "    \"and\" - returns True if all the expressions in comparison are true\n",
    "\n",
    "    \"or\"  - returns True even if any on the expressions in comparison are true\n",
    "    \n",
    "    \"not\" - negates the truthfullness of an expression (if an expression is True, it is revered to False and if an expression if False, it is reversed to True)."
   ]
  },
  {
   "cell_type": "markdown",
   "id": "ab8b0292",
   "metadata": {},
   "source": [
    "9. What is type casting in Python?\n",
    "\n",
    "   Type casting in Python is the process of converting variable of a particular data-type into a\n",
    "   variable of another data-type. This can be done automatically by the python interpreter during\n",
    "   execution or can be manually done by the programmer as the needs of the logic of the program."
   ]
  },
  {
   "cell_type": "markdown",
   "id": "fb079de4-36d5-4369-bb18-255b0983f5a8",
   "metadata": {},
   "source": [
    "10. What is the difference between implicit and explicit type casting?\n",
    "\n",
    "    Implicit type casting occurs when the data-type of a variable is automatically changed by the python interpreter as per needed. Ex. if we print(5/2), the output will be 2.5 even though, we gave integer inputs.\n",
    "\n",
    "    Explicit type casting is when the programmer changes the data-type of one variable to a data-type that the programmer thinks it is necessary\n",
    "    for the expected execution of the program. \n",
    "    \n",
    "    Ex. a = 23.212\n",
    "    \n",
    "        b = int(a)"
   ]
  },
  {
   "cell_type": "markdown",
   "id": "a93c214d",
   "metadata": {},
   "source": [
    "11. What is the purpose of conditional statement in python?\n",
    "\n",
    "    The purpose of conditional statements is to decide which statement to execute based on the satisfaction of a particular pre-defined condition. It can be simple as executing one set of statement/s if the condition is met and another set of statement/s if the condition is not met. It can also have many conditions and based on satisfaction of one of the conditions, the statements corresponding to that condition\n",
    "    will be executed."
   ]
  },
  {
   "cell_type": "markdown",
   "id": "4ba60ee6",
   "metadata": {},
   "source": [
    "12. How does the elif statement work?\n",
    "\n",
    "    An elif statement basically has three blocks.\n",
    "\n",
    "    An \"if\" block - contains the base condition.\n",
    "    This is executed if the base condition is matched with the inputed condition.\n",
    "\n",
    "    An \"elif\" block -  contains the alternate condition to the \"if\" condition.\n",
    "    This is executed when the \"if\" block condition fails but the \"elif\" block condition is satisfied.\n",
    "\n",
    "    An \"else\" block -  contains the default condition when all the above conditions fails.\n",
    "    This is executed when all the condition blocks have failed to the satisfy the inputted condition."
   ]
  },
  {
   "cell_type": "markdown",
   "id": "cfd806bb",
   "metadata": {},
   "source": [
    "13. What is the difference between for and while loops?"
   ]
  },
  {
   "cell_type": "markdown",
   "id": "79365698",
   "metadata": {},
   "source": [
    "    while loop >> \n",
    "\n",
    "    Executes a set of statements continuously, as long as the condition is met.\n",
    "\n",
    "    Fails to execute the set of statements continuously, after the condition fails.\n",
    "\n",
    "    For loop >>\n",
    "\n",
    "    Iterates over a sequence of elements using an iterating elements.\n",
    "\n",
    "    Iteration is ended as soon as the sequence of elements is traversed completely due to another condition present inside the loop."
   ]
  },
  {
   "cell_type": "markdown",
   "id": "a773ed08",
   "metadata": {},
   "source": [
    "14. Describe a scenario where a while loop is more suitable than a for loop."
   ]
  },
  {
   "cell_type": "markdown",
   "id": "bd347aee",
   "metadata": {},
   "source": [
    "    If the program does not involve the usage of any kind of sequential data(such as string, tuple, set, dictionary) and there is a need for iteration, while loop is more suitable than a for loop."
   ]
  },
  {
   "cell_type": "markdown",
   "id": "3f75ab3f",
   "metadata": {},
   "source": [
    "PRACTICAL QUESTIONS (PROGRAMS)"
   ]
  },
  {
   "cell_type": "markdown",
   "id": "b4d95cf8",
   "metadata": {},
   "source": [
    "1. Write a Python program to print \"Hello, World!"
   ]
  },
  {
   "cell_type": "code",
   "execution_count": 2,
   "id": "5482df5c",
   "metadata": {},
   "outputs": [
    {
     "name": "stdout",
     "output_type": "stream",
     "text": [
      "Hello World!\n"
     ]
    }
   ],
   "source": [
    "print(\"Hello World!\")"
   ]
  },
  {
   "cell_type": "markdown",
   "id": "200a9969",
   "metadata": {},
   "source": [
    "2. Write a Python program that displays your name and age."
   ]
  },
  {
   "cell_type": "code",
   "execution_count": 4,
   "id": "2731615e",
   "metadata": {},
   "outputs": [
    {
     "name": "stdin",
     "output_type": "stream",
     "text": [
      "Enter your name :  \n",
      "Enter your age :  23\n"
     ]
    },
    {
     "name": "stdout",
     "output_type": "stream",
     "text": [
      "Hello  you are 23 years old.\n"
     ]
    }
   ],
   "source": [
    "name = input(\"Enter your name : \")\n",
    "age = int(input(\"Enter your age : \"))\n",
    "print(\"Hello\", name, \"you are\", age, \"years old.\")"
   ]
  },
  {
   "cell_type": "markdown",
   "id": "c31dd2c7",
   "metadata": {},
   "source": [
    "3. Write code to print all the pre-defined keywords in Python using the keyword library."
   ]
  },
  {
   "cell_type": "code",
   "execution_count": 5,
   "id": "0964b514",
   "metadata": {},
   "outputs": [
    {
     "name": "stdout",
     "output_type": "stream",
     "text": [
      "\n",
      "Here is a list of the Python keywords.  Enter any keyword to get more help.\n",
      "\n",
      "False               class               from                or\n",
      "None                continue            global              pass\n",
      "True                def                 if                  raise\n",
      "and                 del                 import              return\n",
      "as                  elif                in                  try\n",
      "assert              else                is                  while\n",
      "async               except              lambda              with\n",
      "await               finally             nonlocal            yield\n",
      "break               for                 not                 \n",
      "\n"
     ]
    }
   ],
   "source": [
    "help(\"keywords\")"
   ]
  },
  {
   "cell_type": "markdown",
   "id": "db6706d2",
   "metadata": {},
   "source": [
    "4. Write a program that checks if a given word is a Python keyword."
   ]
  },
  {
   "cell_type": "code",
   "execution_count": 6,
   "id": "a8ee0d4f",
   "metadata": {},
   "outputs": [
    {
     "name": "stdin",
     "output_type": "stream",
     "text": [
      "Enter a word :  for\n"
     ]
    },
    {
     "name": "stdout",
     "output_type": "stream",
     "text": [
      "for is a keyword.\n"
     ]
    }
   ],
   "source": [
    "import keyword\n",
    "word = input(\"Enter a word : \")\n",
    "if word in keyword.kwlist:\n",
    "    print(word, \"is a keyword.\")\n",
    "else:\n",
    "    print(word, \"is not a keyword.\")"
   ]
  },
  {
   "cell_type": "markdown",
   "id": "d997aaf6",
   "metadata": {},
   "source": [
    "5. Create a list and tuple in Python, and demonstrate how attempting to change an element works differently for each?"
   ]
  },
  {
   "cell_type": "code",
   "execution_count": 1,
   "id": "bdfe11c6",
   "metadata": {},
   "outputs": [
    {
     "name": "stdout",
     "output_type": "stream",
     "text": [
      "['MG', 'fiat', 'skoda']\n"
     ]
    },
    {
     "ename": "TypeError",
     "evalue": "'tuple' object does not support item assignment",
     "output_type": "error",
     "traceback": [
      "\u001b[1;31m---------------------------------------------------------------------------\u001b[0m",
      "\u001b[1;31mTypeError\u001b[0m                                 Traceback (most recent call last)",
      "Cell \u001b[1;32mIn[1], line 6\u001b[0m\n\u001b[0;32m      3\u001b[0m \u001b[38;5;28mprint\u001b[39m(car_brands_list)\n\u001b[0;32m      5\u001b[0m bike_brands_tuple \u001b[38;5;241m=\u001b[39m (\u001b[38;5;124m\"\u001b[39m\u001b[38;5;124mbajaj\u001b[39m\u001b[38;5;124m\"\u001b[39m, \u001b[38;5;124m\"\u001b[39m\u001b[38;5;124mtvs\u001b[39m\u001b[38;5;124m\"\u001b[39m, \u001b[38;5;124m\"\u001b[39m\u001b[38;5;124mtriumph\u001b[39m\u001b[38;5;124m\"\u001b[39m)\n\u001b[1;32m----> 6\u001b[0m \u001b[43mbike_brands_tuple\u001b[49m\u001b[43m[\u001b[49m\u001b[38;5;241;43m1\u001b[39;49m\u001b[43m]\u001b[49m \u001b[38;5;241m=\u001b[39m \u001b[38;5;124m\"\u001b[39m\u001b[38;5;124mBMW Motorrad\u001b[39m\u001b[38;5;124m\"\u001b[39m\n\u001b[0;32m      7\u001b[0m \u001b[38;5;28mprint\u001b[39m(bike_brands_tuple)\n",
      "\u001b[1;31mTypeError\u001b[0m: 'tuple' object does not support item assignment"
     ]
    }
   ],
   "source": [
    "car_brands_list = [\"volkswagon\", \"fiat\", \"skoda\"]\n",
    "car_brands_list[0] = \"MG\"\n",
    "print(car_brands_list)\n",
    "\n",
    "bike_brands_tuple = (\"bajaj\", \"tvs\", \"triumph\")\n",
    "bike_brands_tuple[1] = \"BMW Motorrad\"\n",
    "print(bike_brands_tuple)"
   ]
  },
  {
   "cell_type": "markdown",
   "id": "0276ea3d",
   "metadata": {},
   "source": [
    "6. Write a function to demonstrate the behavior of mutable and immutable arguments."
   ]
  },
  {
   "cell_type": "code",
   "execution_count": 3,
   "id": "3101c636",
   "metadata": {},
   "outputs": [
    {
     "name": "stdout",
     "output_type": "stream",
     "text": [
      "Immutable Example:\n",
      "Original immutable value: 5\n",
      "Modified immutable value inside function: 15\n",
      "Value outside function after modification: 5\n",
      "\n",
      "Mutable Example:\n",
      "Original mutable value: [1, 2, 3]\n",
      "Modified mutable value inside function: [1, 2, 3, 4]\n",
      "Value outside function after modification: [1, 2, 3, 4]\n"
     ]
    }
   ],
   "source": [
    "def demo_mutable_immutable():\n",
    "    # Immutable argument\n",
    "    def modify_immutable(arg):\n",
    "        print(f\"Original immutable value: {arg}\")\n",
    "        arg += 10\n",
    "        print(f\"Modified immutable value inside function: {arg}\")\n",
    "\n",
    "    # Mutable argument\n",
    "    def modify_mutable(arg):\n",
    "        print(f\"Original mutable value: {arg}\")\n",
    "        arg.append(4)\n",
    "        print(f\"Modified mutable value inside function: {arg}\")\n",
    "\n",
    "    # Test with an immutable argument (integer)\n",
    "    num = 5\n",
    "    print(\"Immutable Example:\")\n",
    "    modify_immutable(num)\n",
    "    print(f\"Value outside function after modification: {num}\\n\")\n",
    "\n",
    "    # Test with a mutable argument (list)\n",
    "    my_list = [1, 2, 3]\n",
    "    print(\"Mutable Example:\")\n",
    "    modify_mutable(my_list)\n",
    "    print(f\"Value outside function after modification: {my_list}\")\n",
    "\n",
    "demo_mutable_immutable()\n"
   ]
  },
  {
   "cell_type": "markdown",
   "id": "9195ce36",
   "metadata": {},
   "source": [
    "7. Write a function to demonstrate the behavior of mutable and immutable arguments."
   ]
  },
  {
   "cell_type": "code",
   "execution_count": 5,
   "id": "4b609716",
   "metadata": {},
   "outputs": [
    {
     "name": "stdout",
     "output_type": "stream",
     "text": [
      "Immutable Example:\n",
      "Original immutable value: 5\n",
      "Modified immutable value inside function: 15\n",
      "Value outside function after modification: 5\n",
      "\n",
      "Mutable Example:\n",
      "Original mutable value: [1, 2, 3]\n",
      "Modified mutable value inside function: [1, 2, 3, 4]\n",
      "Value outside function after modification: [1, 2, 3, 4]\n"
     ]
    }
   ],
   "source": [
    "def demo_mutable_immutable():\n",
    "    # Immutable argument\n",
    "    def modify_immutable(arg):\n",
    "        print(f\"Original immutable value: {arg}\")\n",
    "        arg += 10\n",
    "        print(f\"Modified immutable value inside function: {arg}\")\n",
    "\n",
    "    # Mutable argument\n",
    "    def modify_mutable(arg):\n",
    "        print(f\"Original mutable value: {arg}\")\n",
    "        arg.append(4)\n",
    "        print(f\"Modified mutable value inside function: {arg}\")\n",
    "\n",
    "    # Test with an immutable argument (integer)\n",
    "    num = 5\n",
    "    print(\"Immutable Example:\")\n",
    "    modify_immutable(num)\n",
    "    print(f\"Value outside function after modification: {num}\\n\")\n",
    "\n",
    "    # Test with a mutable argument (list)\n",
    "    my_list = [1, 2, 3]\n",
    "    print(\"Mutable Example:\")\n",
    "    modify_mutable(my_list)\n",
    "    print(f\"Value outside function after modification: {my_list}\")\n",
    "\n",
    "demo_mutable_immutable()\n"
   ]
  },
  {
   "cell_type": "markdown",
   "id": "097a78ce",
   "metadata": {},
   "source": [
    "8. Write a program to demonstrate the use of logical operators."
   ]
  },
  {
   "cell_type": "code",
   "execution_count": 3,
   "id": "8bf95d2a",
   "metadata": {},
   "outputs": [
    {
     "name": "stdout",
     "output_type": "stream",
     "text": [
      "It's better to play indoors\n"
     ]
    }
   ],
   "source": [
    "weather = \"sunny\"\n",
    "temperature = \"hot\"\n",
    "# on changing the variables as per given in the conditions, \n",
    "# the outputs will vary\n",
    "\n",
    "if temperature!=\"hot\" and weather==\"sunny\":\n",
    "    print(\"It's the winter sun. It's good to play outsite\")\n",
    "elif temperature==\"hot\" or weather ==\"extremely sunny\":\n",
    "    print(\"It's better to play indoors\")\n",
    "elif weather!=\"sunny\" and temperature==\"hot\":\n",
    "    print(\"Play outside moderately\")\n",
    "elif weather==\"greenish cloudy\" and temperature==\"hot\":\n",
    "    print(\"Tornado Approaching⚠⚠. Get indoors\")"
   ]
  },
  {
   "cell_type": "markdown",
   "id": "ba3524a6",
   "metadata": {},
   "source": [
    "9. Write a Python program to convert user input from string to integer, float, and boolean types."
   ]
  },
  {
   "cell_type": "code",
   "execution_count": 7,
   "id": "e13a4e15",
   "metadata": {},
   "outputs": [
    {
     "name": "stdout",
     "output_type": "stream",
     "text": [
      "Number in Integer format : 43\n",
      "Number in Float format : 43.0\n",
      "Number in boolean format : True\n"
     ]
    }
   ],
   "source": [
    "num = input(\"Enter a number : \")\n",
    "print(f\"Number in Integer format : {int(num)}\")\n",
    "print(f\"Number in Float format : {float(num)}\")\n",
    "print(f\"Number in boolean format : {bool(num)}\")"
   ]
  },
  {
   "cell_type": "markdown",
   "id": "25469b7a",
   "metadata": {},
   "source": [
    "10. Write code to demonstrate type casting with list elements"
   ]
  },
  {
   "cell_type": "code",
   "execution_count": 6,
   "id": "d9bb823a",
   "metadata": {},
   "outputs": [
    {
     "name": "stdout",
     "output_type": "stream",
     "text": [
      "String '123' cast to integer: 123\n",
      "Integer 45 cast to float: 45.0\n",
      "Float 67.89 cast to integer: 67\n",
      "String 'true' cast to boolean: True\n",
      "Boolean False cast to string: False\n"
     ]
    }
   ],
   "source": [
    "# Original list with mixed data types\n",
    "mixed_list = [\"123\", 45, 67.89, \"true\", False]\n",
    "\n",
    "# Casting string to integer\n",
    "int_value = int(mixed_list[0])  # \"123\" -> 123\n",
    "print(f\"String '{mixed_list[0]}' cast to integer: {int_value}\")\n",
    "\n",
    "# Casting integer to float\n",
    "float_value = float(mixed_list[1])  # 45 -> 45.0\n",
    "print(f\"Integer {mixed_list[1]} cast to float: {float_value}\")\n",
    "\n",
    "# Casting float to integer\n",
    "int_from_float = int(mixed_list[2])  # 67.89 -> 67\n",
    "print(f\"Float {mixed_list[2]} cast to integer: {int_from_float}\")\n",
    "\n",
    "# Casting string to boolean\n",
    "bool_value = bool(mixed_list[3])  # \"true\" -> True\n",
    "print(f\"String '{mixed_list[3]}' cast to boolean: {bool_value}\")\n",
    "\n",
    "# Casting boolean to string\n",
    "str_value = str(mixed_list[4])  # False -> \"False\"\n",
    "print(f\"Boolean {mixed_list[4]} cast to string: {str_value}\")\n"
   ]
  },
  {
   "cell_type": "markdown",
   "id": "c83ea283",
   "metadata": {},
   "source": [
    "11. Write a program that checks if a number is positive, negative, or zero."
   ]
  },
  {
   "cell_type": "code",
   "execution_count": 1,
   "id": "4bf2092c",
   "metadata": {},
   "outputs": [
    {
     "name": "stdout",
     "output_type": "stream",
     "text": [
      "43 is a positive number\n"
     ]
    }
   ],
   "source": [
    "number = int(input(\"Enter a number : \"))\n",
    "if number < 0:\n",
    "    print(f\"{number} is a negative number\")\n",
    "elif number > 0:\n",
    "    print(f\"{number} is a positive number\")\n",
    "else:\n",
    "    print(f\"{number} is equivalent to zero\")"
   ]
  },
  {
   "cell_type": "markdown",
   "id": "47642129",
   "metadata": {},
   "source": [
    "12. Write a for loop to print numbers from 1 to 100."
   ]
  },
  {
   "cell_type": "code",
   "execution_count": 13,
   "id": "68dc8cc4",
   "metadata": {},
   "outputs": [
    {
     "name": "stdout",
     "output_type": "stream",
     "text": [
      "1\n",
      "2\n",
      "3\n",
      "4\n",
      "5\n",
      "6\n",
      "7\n",
      "8\n",
      "9\n",
      "10\n",
      "11\n",
      "12\n",
      "13\n",
      "14\n",
      "15\n",
      "16\n",
      "17\n",
      "18\n",
      "19\n",
      "20\n",
      "21\n",
      "22\n",
      "23\n",
      "24\n",
      "25\n",
      "26\n",
      "27\n",
      "28\n",
      "29\n",
      "30\n",
      "31\n",
      "32\n",
      "33\n",
      "34\n",
      "35\n",
      "36\n",
      "37\n",
      "38\n",
      "39\n",
      "40\n",
      "41\n",
      "42\n",
      "43\n",
      "44\n",
      "45\n",
      "46\n",
      "47\n",
      "48\n",
      "49\n",
      "50\n",
      "51\n",
      "52\n",
      "53\n",
      "54\n",
      "55\n",
      "56\n",
      "57\n",
      "58\n",
      "59\n",
      "60\n",
      "61\n",
      "62\n",
      "63\n",
      "64\n",
      "65\n",
      "66\n",
      "67\n",
      "68\n",
      "69\n",
      "70\n",
      "71\n",
      "72\n",
      "73\n",
      "74\n",
      "75\n",
      "76\n",
      "77\n",
      "78\n",
      "79\n",
      "80\n",
      "81\n",
      "82\n",
      "83\n",
      "84\n",
      "85\n",
      "86\n",
      "87\n",
      "88\n",
      "89\n",
      "90\n",
      "91\n",
      "92\n",
      "93\n",
      "94\n",
      "95\n",
      "96\n",
      "97\n",
      "98\n",
      "99\n",
      "100\n"
     ]
    }
   ],
   "source": [
    "for i in range(1,101):\n",
    "    print(i)"
   ]
  },
  {
   "cell_type": "markdown",
   "id": "9e299a97",
   "metadata": {},
   "source": [
    "13. Write a Python program to find the sum of all even numbers between 1 and 500."
   ]
  },
  {
   "cell_type": "code",
   "execution_count": 14,
   "id": "d70d8cc7",
   "metadata": {},
   "outputs": [
    {
     "name": "stdout",
     "output_type": "stream",
     "text": [
      "62750\n"
     ]
    }
   ],
   "source": [
    "sum = 0\n",
    "for i in range(1,501):\n",
    "    if i%2==0:\n",
    "        sum += i\n",
    "\n",
    "print(sum)"
   ]
  },
  {
   "cell_type": "markdown",
   "id": "00d67a2d",
   "metadata": {},
   "source": [
    "14. Write a program to reverse a string using a while loop."
   ]
  },
  {
   "cell_type": "code",
   "execution_count": 4,
   "id": "0f70a3d4",
   "metadata": {},
   "outputs": [
    {
     "name": "stdin",
     "output_type": "stream",
     "text": [
      "Enter a String of your choice😊 :  darshan\n"
     ]
    },
    {
     "name": "stdout",
     "output_type": "stream",
     "text": [
      "The reversed string is : nahsrad\n"
     ]
    }
   ],
   "source": [
    "inp_str = input(\"Enter a String of your choice😊 : \")\n",
    "rev_str = \"\"\n",
    "parser = len(inp_str) - 1\n",
    "\n",
    "while parser >= 0:\n",
    "    rev_str += inp_str[parser]\n",
    "    parser -= 1\n",
    "\n",
    "print(f\"The reversed string is : {rev_str}\")"
   ]
  },
  {
   "cell_type": "markdown",
   "id": "39346182",
   "metadata": {},
   "source": [
    "15. Write a Python program to calculate the factorial of a number provided by the user using a while loop."
   ]
  },
  {
   "cell_type": "code",
   "execution_count": 20,
   "id": "45dbadfe",
   "metadata": {},
   "outputs": [
    {
     "name": "stdin",
     "output_type": "stream",
     "text": [
      "Enter the number for calculating factorial :  5\n"
     ]
    },
    {
     "name": "stdout",
     "output_type": "stream",
     "text": [
      "The factorial of 5 is  120\n"
     ]
    }
   ],
   "source": [
    "num = int(input(\"Enter the number for calculating factorial : \"))\n",
    "temp1 = 1\n",
    "\n",
    "for i in range(1, num+1):\n",
    "    temp1 = temp1 *i\n",
    "print(f\"The factorial of {num} is \",temp1)\n",
    "\n",
    "    "
   ]
  }
 ],
 "metadata": {
  "kernelspec": {
   "display_name": "Python 3 (ipykernel)",
   "language": "python",
   "name": "python3"
  },
  "language_info": {
   "codemirror_mode": {
    "name": "ipython",
    "version": 3
   },
   "file_extension": ".py",
   "mimetype": "text/x-python",
   "name": "python",
   "nbconvert_exporter": "python",
   "pygments_lexer": "ipython3",
   "version": "3.13.1"
  }
 },
 "nbformat": 4,
 "nbformat_minor": 5
}
