{
  "nbformat": 4,
  "nbformat_minor": 0,
  "metadata": {
    "colab": {
      "provenance": []
    },
    "kernelspec": {
      "name": "python3",
      "display_name": "Python 3"
    },
    "language_info": {
      "name": "python"
    }
  },
  "cells": [
    {
      "cell_type": "markdown",
      "source": [
        "# **Files, Exceptional Handling, Logging and Memory Management Assignment**"
      ],
      "metadata": {
        "id": "cGPh9_Zka-gb"
      }
    },
    {
      "cell_type": "markdown",
      "source": [
        "# ***THEORETICAL QUESTIONS AND ANSWERS***"
      ],
      "metadata": {
        "id": "DAy5JJm-bb73"
      }
    },
    {
      "cell_type": "markdown",
      "source": [
        "1. What is the difference between interpreted and compiled languages?\n",
        "\n",
        "   Interpreted languages are executed line by line by an interpreter at runtime, while compiled languages are converted into machine code by a compiler before execution. Interpreted languages are generally slower but more flexible, whereas compiled languages are faster but require a compilation step.\n",
        "\n",
        "2. What is exception handling in Python?\n",
        "\n",
        "   Exception handling in Python is a mechanism to handle runtime errors gracefully using try, except, else, and finally blocks. It allows the program to continue running even after encountering an error.\n",
        "\n",
        "3. What is the purpose of the finally block in exception handling?\n",
        "\n",
        "   The finally block is used to execute code that must run regardless of whether an exception was raised or not. It is typically used for cleanup actions, such as closing files or releasing resources.\n",
        "\n",
        "4. What is logging in Python?\n",
        "\n",
        "   Logging in Python is a way to track events that occur during the execution of a program. It is useful for debugging, monitoring, and recording information about the program's behavior.\n",
        "\n",
        "5. What is the significance of the __del__ method in Python?\n",
        "\n",
        "   The __del__ method is a destructor in Python that is called when an object is about to be destroyed. It can be used to perform cleanup actions before the object is removed from memory.\n",
        "\n",
        "6. What is the difference between import and from … import in Python?\n",
        "\n",
        "   import imports the entire module, while from … import imports specific attributes or functions from a module. For example, import math imports the entire math module, whereas from math import sqrt imports only the sqrt function.\n",
        "\n",
        "7. How can you handle multiple exceptions in Python?\n",
        "\n",
        "   Multiple exceptions can be handled using multiple except blocks or by specifying a tuple of exceptions in a single except block. For example:\n",
        "\n",
        "     try:\n",
        "        #code that may raise exceptions\n",
        "    \n",
        "     except (TypeError, ValueError) as e:\n",
        "         # handle TypeError and ValueError\n",
        "\n",
        "8. What is the purpose of the with statement when handling files in Python?\n",
        "\n",
        "   The with statement is used to ensure that a file is properly closed after its suite finishes, even if an exception is raised. It simplifies file handling by automatically managing resources.\n",
        "\n",
        "9. What is the difference between multithreading and multiprocessing?\n",
        "\n",
        "   Multithreading involves running multiple threads within the same process, sharing the same memory space. Multiprocessing involves running multiple processes, each with its own memory space. Multithreading is suitable for I/O-bound tasks, while multiprocessing is better for CPU-bound tasks.\n",
        "\n",
        "10. What are the advantages of using logging in a program?\n",
        "\n",
        "  Logging provides a way to record information about the program's execution, which is useful for debugging, monitoring, and auditing. It allows for different levels of logging (e.g., INFO, ERROR, WARNING) and can direct logs to various outputs (e.g., files, console).\n",
        "\n",
        "11. What is memory management in Python?\n",
        "\n",
        "  Memory management in Python involves the allocation and deallocation of memory for objects. Python uses a garbage collector to automatically manage memory, freeing up memory that is no longer in use.\n",
        "\n",
        "12. What are the basic steps involved in exception handling in Python?\n",
        "\n",
        "  The basic steps are:\n",
        "  1.Enclose the code that might raise an exception in a try block.\n",
        "  2.Use except blocks to catch and handle specific exceptions.\n",
        "  3.Optionally, use an else block to execute code if no exception occurs.\n",
        "  4.Use a finally block to execute cleanup code regardless of whether an exception occurred.\n",
        "\n",
        "13. Why is memory management important in Python?\n",
        "\n",
        "  Memory management is important to ensure efficient use of memory, prevent memory leaks, and avoid running out of memory, which can cause the program to crash.\n",
        "\n",
        "14. What is the role of try and except in exception handling?\n",
        "\n",
        "  The try block contains code that might raise an exception, and the except block contains code that handles the exception if it occurs.\n",
        "\n",
        "15. How does Python's garbage collection system work?\n",
        "\n",
        "  Python's garbage collector automatically reclaims memory by identifying and cleaning up objects that are no longer in use. It uses reference counting to track object references and a cyclic garbage collector to detect and clean up reference cycles.\n",
        "\n",
        "16. What is the purpose of the else block in exception handling?\n",
        "\n",
        "  The else block is executed if no exceptions are raised in the try block. It is used to separate code that should run only if no exceptions occur from the try block.\n",
        "\n",
        "17. What are the common logging levels in Python?\n",
        "\n",
        "  The common logging levels are:\n",
        "    - DEBUG: Detailed information, typically of interest only when diagnosing problems.\n",
        "    - INFO: Confirmation that things are working as expected.\n",
        "    - WARNING: An indication that something unexpected happened, but the program is still running.\n",
        "    - ERROR: A more serious problem that prevents the program from functioning normally.\n",
        "    - CRITICAL: A serious error, indicating that the program itself may be unable to continue running.\n",
        "\n",
        "18. What is the difference between os.fork() and multiprocessing in Python?\n",
        "\n",
        "  os.fork() is a low-level system call that creates a new process by duplicating the existing process. multiprocessing is a higher-level module that provides an API for creating and managing processes, making it easier to write cross-platform multiprocessing code.\n",
        "\n",
        "19. What is the importance of closing a file in Python?\n",
        "\n",
        "  Closing a file is important to free up system resources and ensure that all data is properly written to the file. Failing to close a file can lead to data loss or corruption.\n",
        "\n",
        "20. What is the difference between file.read() and file.readline() in Python?\n",
        "\n",
        "  file.read() reads the entire contents of the file as a single string, while file.readline() reads a single line from the file, including the newline character.\n",
        "\n",
        "21. What is the logging module in Python used for?\n",
        "\n",
        "  The logging module is used to track events that occur during the execution of a program. It provides a flexible framework for emitting log messages from Python programs.\n",
        "\n",
        "22. What is the os module in Python used for in file handling?\n",
        "\n",
        "  The os module provides functions for interacting with the operating system, including file handling tasks such as creating, deleting, and renaming files, as well as managing directories.\n",
        "\n",
        "23. What are the challenges associated with memory management in Python?\n",
        "\n",
        "  Challenges include managing memory efficiently, avoiding memory leaks, handling large datasets, and dealing with the overhead of Python's garbage collection system.\n",
        "\n",
        "24. How do you raise an exception manually in Python?\n",
        "\n",
        "  You can raise an exception manually using the raise keyword, followed by an exception instance. For example:\n",
        "      raise ValueError(\"Invalid value\")\n",
        "\n",
        "25. Why is it important to use multithreading in certain applications?\n",
        "\n",
        "  Multithreading is important in applications that need to perform multiple tasks concurrently, such as GUI applications, web servers, or I/O-bound tasks. It can improve responsiveness and performance by allowing tasks to run in parallel."
      ],
      "metadata": {
        "id": "UNStIXATPlJc"
      }
    },
    {
      "cell_type": "markdown",
      "source": [
        "# ***PRACTICAL QUESTIONS AND ANSWERS***"
      ],
      "metadata": {
        "id": "C7t4R4xabmAG"
      }
    },
    {
      "cell_type": "code",
      "source": [
        "#1\n",
        "\n",
        "with open('file.txt', 'w') as file:\n",
        "    file.write(\"Hello, World!\")"
      ],
      "metadata": {
        "id": "syItrNmqa8lj"
      },
      "execution_count": 24,
      "outputs": []
    },
    {
      "cell_type": "code",
      "source": [
        "#2\n",
        "\n",
        "with open('file.txt', 'r') as file:\n",
        "    for line in file:\n",
        "        print(line, end='')"
      ],
      "metadata": {
        "colab": {
          "base_uri": "https://localhost:8080/"
        },
        "id": "3NyJT-wHdnQX",
        "outputId": "f362997c-8065-4f50-ac36-b2c690e941ac"
      },
      "execution_count": 25,
      "outputs": [
        {
          "output_type": "stream",
          "name": "stdout",
          "text": [
            "Hello, World!"
          ]
        }
      ]
    },
    {
      "cell_type": "code",
      "source": [
        "#3\n",
        "\n",
        "try:\n",
        "    with open('file.txt', 'r') as file:\n",
        "        content = file.read()\n",
        "except FileNotFoundError:\n",
        "    print(\"The file does not exist.\")"
      ],
      "metadata": {
        "id": "QKgto4-Adns5"
      },
      "execution_count": 26,
      "outputs": []
    },
    {
      "cell_type": "code",
      "source": [
        "#4\n",
        "\n",
        "with open('source.txt', 'r') as source, open('destination.txt', 'w') as destination:\n",
        "    for line in source:\n",
        "        destination.write(line)"
      ],
      "metadata": {
        "id": "U2pcUSOgdpLk"
      },
      "execution_count": null,
      "outputs": []
    },
    {
      "cell_type": "code",
      "source": [
        "#5\n",
        "\n",
        "try:\n",
        "    result = 10 / 0\n",
        "except ZeroDivisionError:\n",
        "    print(\"Division by zero is not allowed.\")"
      ],
      "metadata": {
        "colab": {
          "base_uri": "https://localhost:8080/"
        },
        "id": "-7AOyo2vdptR",
        "outputId": "cd12f4be-0361-4a9c-f3fe-c7bf7e7cc26c"
      },
      "execution_count": 29,
      "outputs": [
        {
          "output_type": "stream",
          "name": "stdout",
          "text": [
            "Division by zero is not allowed.\n"
          ]
        }
      ]
    },
    {
      "cell_type": "code",
      "source": [
        "#6\n",
        "\n",
        "import logging\n",
        "\n",
        "logging.basicConfig(filename='error.log', level=logging.ERROR)\n",
        "\n",
        "try:\n",
        "    result = 10 / 0\n",
        "except ZeroDivisionError:\n",
        "    logging.error(\"Division by zero occurred.\")"
      ],
      "metadata": {
        "id": "tyO9xm11dqgC"
      },
      "execution_count": 30,
      "outputs": []
    },
    {
      "cell_type": "code",
      "source": [
        "#7\n",
        "\n",
        "import logging\n",
        "\n",
        "logging.basicConfig(level=logging.DEBUG)\n",
        "\n",
        "logging.info(\"This is an info message.\")\n",
        "logging.warning(\"This is a warning message.\")\n",
        "logging.error(\"This is an error message.\")"
      ],
      "metadata": {
        "id": "HAlUqh-1drG3"
      },
      "execution_count": 6,
      "outputs": []
    },
    {
      "cell_type": "code",
      "source": [
        "#8\n",
        "\n",
        "try:\n",
        "    with open('nonexistent_file.txt', 'r') as file:\n",
        "        content = file.read()\n",
        "except FileNotFoundError:\n",
        "    print(\"The file does not exist.\")"
      ],
      "metadata": {
        "id": "UK173sc5dru9"
      },
      "execution_count": 7,
      "outputs": []
    },
    {
      "cell_type": "code",
      "source": [
        "#9\n",
        "\n",
        "lines = []\n",
        "with open('file.txt', 'r') as file:\n",
        "    for line in file:\n",
        "        lines.append(line.strip())"
      ],
      "metadata": {
        "id": "zLGvSPq4dtJz"
      },
      "execution_count": 9,
      "outputs": []
    },
    {
      "cell_type": "code",
      "source": [
        "#10\n",
        "\n",
        "with open('file.txt', 'a') as file:\n",
        "    file.write(\"New data to append.\\n\")"
      ],
      "metadata": {
        "id": "RcTrxiecduwq"
      },
      "execution_count": 11,
      "outputs": []
    },
    {
      "cell_type": "code",
      "source": [
        "#11\n",
        "\n",
        "my_dict = {'a': 1, 'b': 2}\n",
        "\n",
        "try:\n",
        "    value = my_dict['c']\n",
        "except KeyError:\n",
        "    print(\"The key does not exist.\")"
      ],
      "metadata": {
        "id": "XNcWnnQZduNR"
      },
      "execution_count": 10,
      "outputs": []
    },
    {
      "cell_type": "code",
      "source": [
        "#12\n",
        "\n",
        "try:\n",
        "    result = 10 / 0\n",
        "except ZeroDivisionError:\n",
        "    print(\"Division by zero occurred.\")\n",
        "except TypeError:\n",
        "    print(\"Type error occurred.\")"
      ],
      "metadata": {
        "id": "yENSAst_dvWL"
      },
      "execution_count": 12,
      "outputs": []
    },
    {
      "cell_type": "code",
      "source": [
        "#13\n",
        "\n",
        "import os\n",
        "\n",
        "if os.path.exists('file.txt'):\n",
        "    with open('file.txt', 'r') as file:\n",
        "        content = file.read()\n",
        "else:\n",
        "    print(\"The file does not exist.\")"
      ],
      "metadata": {
        "id": "I1L2pA_wdwBC"
      },
      "execution_count": 13,
      "outputs": []
    },
    {
      "cell_type": "code",
      "source": [
        "#14\n",
        "\n",
        "import logging\n",
        "\n",
        "logging.basicConfig(level=logging.DEBUG)\n",
        "\n",
        "logging.info(\"This is an informational message.\")\n",
        "logging.error(\"This is an error message.\")"
      ],
      "metadata": {
        "id": "L37M5rOXdwlc"
      },
      "execution_count": 14,
      "outputs": []
    },
    {
      "cell_type": "code",
      "source": [
        "#15\n",
        "\n",
        "with open('file.txt', 'r') as file:\n",
        "    content = file.read()\n",
        "    if content:\n",
        "        print(content)\n",
        "    else:\n",
        "        print(\"The file is empty.\")"
      ],
      "metadata": {
        "id": "7jOjdoXadxLJ"
      },
      "execution_count": 15,
      "outputs": []
    },
    {
      "cell_type": "code",
      "source": [
        "#16\n",
        "\n",
        "import memory_profiler\n",
        "\n",
        "@profile\n",
        "def my_function():\n",
        "    a = [1] * (10 ** 6)\n",
        "    b = [2] * (2 * 10 ** 7)\n",
        "    del b\n",
        "    return a\n",
        "\n",
        "if __name__ == \"__main__\":\n",
        "    my_function()"
      ],
      "metadata": {
        "id": "VAHQk5fGdxpe"
      },
      "execution_count": 16,
      "outputs": []
    },
    {
      "cell_type": "code",
      "source": [
        "#17\n",
        "\n",
        "numbers = [1, 2, 3, 4, 5]\n",
        "\n",
        "with open('numbers.txt', 'w') as file:\n",
        "    for number in numbers:\n",
        "        file.write(f\"{number}\\n\")"
      ],
      "metadata": {
        "id": "j6RuAhtqdyYx"
      },
      "execution_count": 17,
      "outputs": []
    },
    {
      "cell_type": "code",
      "source": [
        "#18\n",
        "\n",
        "import logging\n",
        "from logging.handlers import RotatingFileHandler\n",
        "\n",
        "logger = logging.getLogger(__name__)\n",
        "handler = RotatingFileHandler('app.log', maxBytes=1*1024*1024, backupCount=5)\n",
        "logger.addHandler(handler)\n",
        "\n",
        "logger.setLevel(logging.INFO)\n",
        "logger.info(\"This is a log message.\")"
      ],
      "metadata": {
        "id": "xVvh5vuKdy79"
      },
      "execution_count": 18,
      "outputs": []
    },
    {
      "cell_type": "code",
      "source": [
        "#19\n",
        "\n",
        "try:\n",
        "    my_list = [1, 2, 3]\n",
        "    value = my_list[5]\n",
        "    my_dict = {'a': 1}\n",
        "    value = my_dict['b']\n",
        "except IndexError:\n",
        "    print(\"Index error occurred.\")\n",
        "except KeyError:\n",
        "    print(\"Key error occurred.\")"
      ],
      "metadata": {
        "id": "HilI-yafdzfw"
      },
      "execution_count": 19,
      "outputs": []
    },
    {
      "cell_type": "code",
      "source": [
        "#20\n",
        "\n",
        "with open('file.txt', 'r') as file:\n",
        "    content = file.read()\n",
        "    print(content)"
      ],
      "metadata": {
        "id": "6BM6AyhYd0HR"
      },
      "execution_count": 20,
      "outputs": []
    },
    {
      "cell_type": "code",
      "source": [
        "#21\n",
        "\n",
        "word = \"Python\"\n",
        "count = 0\n",
        "\n",
        "with open('file.txt', 'r') as file:\n",
        "    for line in file:\n",
        "        count += line.lower().count(word.lower())\n",
        "\n",
        "print(f\"The word '{word}' occurs {count} times.\")"
      ],
      "metadata": {
        "id": "a6rk3r-id1Eb"
      },
      "execution_count": 21,
      "outputs": []
    },
    {
      "cell_type": "code",
      "source": [
        "#22\n",
        "\n",
        "import os\n",
        "\n",
        "if os.path.getsize('file.txt') == 0:\n",
        "    print(\"The file is empty.\")\n",
        "else:\n",
        "    with open('file.txt', 'r') as file:\n",
        "        content = file.read()\n",
        "        print(content)"
      ],
      "metadata": {
        "id": "HS26QZ-Yd1vb"
      },
      "execution_count": 22,
      "outputs": []
    },
    {
      "cell_type": "code",
      "source": [
        "#23\n",
        "\n",
        "import logging\n",
        "\n",
        "logging.basicConfig(filename='file_handling.log', level=logging.ERROR)\n",
        "\n",
        "try:\n",
        "    with open('nonexistent_file.txt', 'r') as file:\n",
        "        content = file.read()\n",
        "except FileNotFoundError:\n",
        "    logging.error(\"File not found error occurred.\")"
      ],
      "metadata": {
        "id": "eJU1axsld2Ra"
      },
      "execution_count": 23,
      "outputs": []
    },
    {
      "cell_type": "code",
      "source": [],
      "metadata": {
        "id": "33iBK8wod3c_"
      },
      "execution_count": null,
      "outputs": []
    }
  ]
}